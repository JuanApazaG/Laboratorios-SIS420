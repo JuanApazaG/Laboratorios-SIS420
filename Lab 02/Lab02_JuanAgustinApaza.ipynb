{
  "cells": [
    {
      "cell_type": "markdown",
      "metadata": {
        "id": "04oYJLBvvGQt"
      },
      "source": [
        "#Laboratorio 2\n",
        "\n",
        "Nombre: Juan Agustin Apaza Guzman\n",
        "\n",
        "Dataset: https://www.kaggle.com/datasets/yakhyojon/automatidata?select=2017_Yellow_Taxi_Trip_Data.csv\n",
        "\n",
        "18 propiedades y tiene 22699 ejemplos"
      ]
    },
    {
      "cell_type": "code",
      "execution_count": 252,
      "metadata": {
        "id": "f0WGMMljlHQz"
      },
      "outputs": [],
      "source": [
        "# utilizado para manejos de directorios y rutas\n",
        "import os\n",
        "\n",
        "# Computacion vectorial y cientifica para python\n",
        "import numpy as np\n",
        "import pandas as pd\n",
        "# Librerias para graficación (trazado de gráficos)\n",
        "from matplotlib import pyplot as plt\n",
        "from mpl_toolkits.mplot3d import Axes3D  # Necesario para graficar superficies 3D\n",
        "\n",
        "# llama a matplotlib a embeber graficas dentro de los cuadernillos\n",
        "%matplotlib inline"
      ]
    },
    {
      "cell_type": "code",
      "execution_count": 253,
      "metadata": {
        "colab": {
          "base_uri": "https://localhost:8080/"
        },
        "id": "LhERtghFlVGr",
        "outputId": "5b7a2365-98e6-41d5-ec14-a3004fca4b92"
      },
      "outputs": [
        {
          "name": "stdout",
          "output_type": "stream",
          "text": [
            "Drive already mounted at /content/gdrive; to attempt to forcibly remount, call drive.mount(\"/content/gdrive\", force_remount=True).\n"
          ]
        }
      ],
      "source": [
        "from google.colab import drive\n",
        "drive.mount(\"/content/gdrive\")"
      ]
    },
    {
      "cell_type": "markdown",
      "metadata": {
        "id": "G6-ykOwelHQ0"
      },
      "source": [
        "## Regresión lineal con multiples variables\n",
        "Implementamos la regresión lineal multivariable para encontrar los parámetros theta que mejor predicen el total_amount.\n",
        "Paso 1: Preparación y Normalización de Datos\n",
        "Primero, cargamos los datos y seleccionamos las características relevantes, que en este caso son trip_distance, fare_amount, extra, mta_tax, tip_amount, y tolls_amount. "
      ]
    },
    {
      "cell_type": "code",
      "execution_count": 254,
      "metadata": {
        "colab": {
          "base_uri": "https://localhost:8080/"
        },
        "id": "pHl-w51eyP7a",
        "outputId": "907417d4-5289-4324-f0fe-c82c3930888b"
      },
      "outputs": [
        {
          "name": "stdout",
          "output_type": "stream",
          "text": [
            "   Unnamed: 0  VendorID    tpep_pickup_datetime   tpep_dropoff_datetime  \\\n",
            "0    24870114         2   03/25/2017 8:55:43 AM   03/25/2017 9:09:47 AM   \n",
            "1    35634249         1   04/11/2017 2:53:28 PM   04/11/2017 3:19:58 PM   \n",
            "2   106203690         1   12/15/2017 7:26:56 AM   12/15/2017 7:34:08 AM   \n",
            "3    38942136         2   05/07/2017 1:17:59 PM   05/07/2017 1:48:14 PM   \n",
            "4    30841670         2  04/15/2017 11:32:20 PM  04/15/2017 11:49:03 PM   \n",
            "\n",
            "   passenger_count  trip_distance  RatecodeID store_and_fwd_flag  \\\n",
            "0                6           3.34           1                  N   \n",
            "1                1           1.80           1                  N   \n",
            "2                1           1.00           1                  N   \n",
            "3                1           3.70           1                  N   \n",
            "4                1           4.37           1                  N   \n",
            "\n",
            "   PULocationID  DOLocationID  payment_type  fare_amount  extra  mta_tax  \\\n",
            "0           100           231             1         13.0    0.0      0.5   \n",
            "1           186            43             1         16.0    0.0      0.5   \n",
            "2           262           236             1          6.5    0.0      0.5   \n",
            "3           188            97             1         20.5    0.0      0.5   \n",
            "4             4           112             2         16.5    0.5      0.5   \n",
            "\n",
            "   tip_amount  tolls_amount  improvement_surcharge  total_amount  \n",
            "0        2.76           0.0                    0.3         16.56  \n",
            "1        4.00           0.0                    0.3         20.80  \n",
            "2        1.45           0.0                    0.3          8.75  \n",
            "3        6.39           0.0                    0.3         27.69  \n",
            "4        0.00           0.0                    0.3         17.80  \n"
          ]
        }
      ],
      "source": [
        "# Cargar datos\n",
        "data = pd.read_csv('/content/gdrive/MyDrive/Tareas/Inteligencia artificial SIS420/datasets/2017_Yellow_Taxi_Trip_Data.csv/2017_Yellow_Taxi_Trip_Data.csv')\n",
        "\n",
        "# Mostrar las primeras filas del dataset para entender su estructura\n",
        "print(data.head())"
      ]
    },
    {
      "cell_type": "markdown",
      "metadata": {
        "id": "OSg0v3XnXDAw"
      },
      "source": [
        "#Seleccion de caracteristicas 'x' y la variable 'y'"
      ]
    },
    {
      "cell_type": "code",
      "execution_count": 255,
      "metadata": {
        "colab": {
          "base_uri": "https://localhost:8080/"
        },
        "id": "6BP5grkxlHQ0",
        "outputId": "39389943-197d-4fc8-b53e-80c018fbd0ca"
      },
      "outputs": [
        {
          "name": "stdout",
          "output_type": "stream",
          "text": [
            "Número de ejemplos en el dataset: 22699\n"
          ]
        }
      ],
      "source": [
        "# Seleccionamos las características relevantes\n",
        "# Por ejemplo, podríamos elegir 'trip_distance', 'fare_amount', 'extra', 'mta_tax', 'tip_amount', 'tolls_amount'\n",
        "X = data[['trip_distance', 'fare_amount', 'extra', 'mta_tax', 'tip_amount', 'tolls_amount']]\n",
        "\n",
        "# La variable objetivo es el 'total_amount'\n",
        "y = data['total_amount']\n",
        "\n",
        "# Número de ejemplos en el dataset\n",
        "m = y.size\n",
        "print(f'Número de ejemplos en el dataset: {m}')\n"
      ]
    },
    {
      "cell_type": "markdown",
      "metadata": {
        "id": "NtGB0EqeXQSp"
      },
      "source": [
        "# Normalización de características\n",
        "La normalización se realiza para escalar las características de manera que todas estén en un rango similar, evitando que alguna característica con valores grandes domine las demás durante el entrenamiento."
      ]
    },
    {
      "cell_type": "code",
      "execution_count": 256,
      "metadata": {
        "colab": {
          "base_uri": "https://localhost:8080/"
        },
        "id": "81ZL-no0ymBB",
        "outputId": "a3c4ece9-c98b-4d66-ad78-b5db1eb699e6"
      },
      "outputs": [
        {
          "name": "stdout",
          "output_type": "stream",
          "text": [
            "   trip_distance  fare_amount     extra   mta_tax  tip_amount  tolls_amount\n",
            "0       0.116802    -0.002011 -0.719681  0.064747    0.330012     -0.223375\n",
            "1      -0.304759     0.224515 -0.719681  0.064747    0.772779     -0.223375\n",
            "2      -0.523752    -0.492818 -0.719681  0.064747   -0.137751     -0.223375\n",
            "3       0.215348     0.564305 -0.719681  0.064747    1.626179     -0.223375\n",
            "4       0.398755     0.262270  0.360031  0.064747   -0.655504     -0.223375\n"
          ]
        }
      ],
      "source": [
        "def featureNormalize(X):\n",
        "    # Crear copias para evitar modificar el original\n",
        "    X_norm = X.copy()\n",
        "    mu = np.zeros(X.shape[1])\n",
        "    sigma = np.zeros(X.shape[1])\n",
        "\n",
        "    # Calcular la media y la desviación estándar\n",
        "    mu = np.mean(X, axis=0)\n",
        "    sigma = np.std(X, axis=0)\n",
        "\n",
        "    # Normalizar las características\n",
        "    X_norm = (X - mu) / sigma\n",
        "\n",
        "    return X_norm, mu, sigma\n",
        "\n",
        "# Normalizamos las características\n",
        "X_norm, mu, sigma = featureNormalize(X)\n",
        "\n",
        "# Verificar los valores normalizados\n",
        "print(X_norm.head())\n"
      ]
    },
    {
      "cell_type": "markdown",
      "metadata": {
        "id": "TwsSjwNwYLVy"
      },
      "source": [
        "# Añadir el término de intersección (columna de unos) a X"
      ]
    },
    {
      "cell_type": "code",
      "execution_count": 257,
      "metadata": {
        "colab": {
          "base_uri": "https://localhost:8080/"
        },
        "id": "9SGAn-N2yriZ",
        "outputId": "ddc04bf1-a514-4c40-f517-34053d5e9e57"
      },
      "outputs": [
        {
          "name": "stdout",
          "output_type": "stream",
          "text": [
            "X después de añadir la columna de unos:\n",
            "[[ 1.          0.11680167 -0.00201075 -0.71968127  0.06474688  0.33001156\n",
            "  -0.2233746 ]\n",
            " [ 1.         -0.30475918  0.22451549 -0.71968127  0.06474688  0.77277943\n",
            "  -0.2233746 ]\n",
            " [ 1.         -0.52375182 -0.49281761 -0.71968127  0.06474688 -0.13775126\n",
            "  -0.2233746 ]\n",
            " [ 1.          0.21534836  0.56430485 -0.71968127  0.06474688  1.62617878\n",
            "  -0.2233746 ]\n",
            " [ 1.          0.3987547   0.26226986  0.3600309   0.06474688 -0.65550401\n",
            "  -0.2233746 ]]\n"
          ]
        }
      ],
      "source": [
        "# Añadir una columna de unos a X (para el término de intersección)\n",
        "X = np.concatenate([np.ones((m, 1)), X_norm], axis=1)\n",
        "print(f'X después de añadir la columna de unos:\\n{X[:5]}')\n"
      ]
    },
    {
      "cell_type": "markdown",
      "metadata": {
        "id": "xSxMhhTpYSdI"
      },
      "source": [
        "# Implementación del descenso por el gradiente\n",
        "Función de Costo: Calcula qué tan lejos están las predicciones del modelo de los valores reales.\n",
        "Descenso por Gradiente: Optimiza los parámetros theta minimizando la función de costo iterativamente."
      ]
    },
    {
      "cell_type": "code",
      "execution_count": 258,
      "metadata": {
        "colab": {
          "base_uri": "https://localhost:8080/",
          "height": 484
        },
        "id": "J9PuDn4UyxOp",
        "outputId": "43a628f0-d5a8-470b-b889-73e99b85ea3b"
      },
      "outputs": [
        {
          "data": {
            "image/png": "[encoded data removed]",
            "text/plain": [
              "<Figure size 640x480 with 1 Axes>"
            ]
          },
          "metadata": {},
          "output_type": "display_data"
        },
        {
          "name": "stdout",
          "output_type": "stream",
          "text": [
            "Theta calculado por el descenso por el gradiente: [1.63105022e+01 5.06155622e-03 1.32423665e+01 4.60009778e-01\n",
            " 5.01152000e-02 2.80383944e+00 1.39854695e+00]\n"
          ]
        }
      ],
      "source": [
        "def computeCostMulti(X, y, theta):\n",
        "    m = y.shape[0]  # Número de ejemplos de entrenamiento\n",
        "    J = 0\n",
        "    J = (1/(2 * m)) * np.sum(np.square(np.dot(X, theta) - y))\n",
        "    return J\n",
        "\n",
        "def gradientDescentMulti(X, y, theta, alpha, num_iters):\n",
        "    m = y.shape[0]  # Número de ejemplos de entrenamiento\n",
        "    theta = theta.copy()  # Crear una copia de theta\n",
        "    J_history = []  # Para almacenar la historia del costo en cada iteración\n",
        "\n",
        "    for i in range(num_iters):\n",
        "        theta = theta - (alpha / m) * (np.dot(X, theta) - y).dot(X)\n",
        "        J_history.append(computeCostMulti(X, y, theta))\n",
        "\n",
        "    return theta, J_history\n",
        "\n",
        "# Inicializamos theta con ceros\n",
        "theta = np.zeros(X.shape[1])\n",
        "\n",
        "# Configuración del descenso por el gradiente\n",
        "alpha = 0.01  # Tasa de aprendizaje\n",
        "num_iters = 4000  # Número de iteraciones\n",
        "\n",
        "# Ejecutar el descenso por el gradiente\n",
        "theta, J_history = gradientDescentMulti(X, y, theta, alpha, num_iters)\n",
        "\n",
        "# Graficar la convergencia del costo\n",
        "plt.plot(np.arange(len(J_history)), J_history, lw=2)\n",
        "plt.xlabel('Número de iteraciones')\n",
        "plt.ylabel('Costo J')\n",
        "plt.show()\n",
        "\n",
        "# Mostrar los resultados finales\n",
        "print(f'Theta calculado por el descenso por el gradiente: {theta}')\n"
      ]
    },
    {
      "cell_type": "markdown",
      "metadata": {
        "id": "mNQbkXAFZBdZ"
      },
      "source": [
        "# Predicción con el modelo ajustado\n",
        "Podemos usar el modelo entrenado para hacer predicciones. Por ejemplo, predecir el total_amount para un viaje con ciertas características:"
      ]
    },
    {
      "cell_type": "code",
      "execution_count": 259,
      "metadata": {
        "colab": {
          "base_uri": "https://localhost:8080/"
        },
        "id": "JzVciRyHy0pR",
        "outputId": "3a00fd14-489a-46f3-8d25-7a7830b1bfaa"
      },
      "outputs": [
        {
          "name": "stdout",
          "output_type": "stream",
          "text": [
            "El total_amount predicho para el viaje es: $12.80\n"
          ]
        }
      ],
      "source": [
        "# Ejemplo de valores de entrada (modifica según lo que quieras predecir)\n",
        "# Supongamos que tenemos un viaje con una distancia de 2 millas, una tarifa de $10, un extra de $0.50, un MTA tax de $0.50, un tip de $1.50, y tolls de $0\n",
        "X_example = [1, 2, 10, 0.5, 0.5, 1.5, 0]\n",
        "\n",
        "# Normalizamos las características usando los valores mu y sigma que calculamos anteriormente\n",
        "X_example[1:] = (X_example[1:] - mu) / sigma\n",
        "\n",
        "# Realizamos la predicción\n",
        "predicted_total_amount = np.dot(X_example, theta)\n",
        "print(f'El total_amount predicho para el viaje es: ${predicted_total_amount:.2f}')\n"
      ]
    },
    {
      "cell_type": "markdown",
      "metadata": {
        "id": "whiFVE_ZZFlZ"
      },
      "source": [
        "# Implementación de la ecuación normal (opcional)\n",
        "Si quieres probar la ecuación normal, que no requiere de iteraciones:"
      ]
    },
    {
      "cell_type": "code",
      "execution_count": 260,
      "metadata": {
        "colab": {
          "base_uri": "https://localhost:8080/"
        },
        "id": "PL46d2hosgkK",
        "outputId": "7bb95df3-7d68-4253-faef-c371e9198c4c"
      },
      "outputs": [
        {
          "name": "stdout",
          "output_type": "stream",
          "text": [
            "El total_amount predicho con la ecuación normal es: $12.80\n"
          ]
        }
      ],
      "source": [
        "def normalEqn(X, y):\n",
        "    theta = np.linalg.inv(X.T @ X) @ X.T @ y\n",
        "    return theta\n",
        "\n",
        "# Calcular theta usando la ecuación normal\n",
        "theta_normal = normalEqn(X, y)\n",
        "\n",
        "# Predicción con la ecuación normal\n",
        "predicted_total_amount_normal = np.dot(X_example, theta_normal)\n",
        "print(f'El total_amount predicho con la ecuación normal es: ${predicted_total_amount_normal:.2f}')\n"
      ]
    },
    {
      "cell_type": "markdown",
      "metadata": {
        "id": "PBJgwJiDZ0GB"
      },
      "source": [
        "# Paso 3: Regresión Polinómica\n",
        "se eleva una característica al cuadrado, para capturar relaciones no lineales entre las características y el total_amount.\n",
        "\n",
        "La regresión polinómica expande las características originales con términos al cuadrado (o a otras potencias) para capturar mejor las complejidades en los datos que una regresión lineal simple podría no captar"
      ]
    },
    {
      "cell_type": "code",
      "execution_count": 261,
      "metadata": {
        "id": "HwqZYNkqZ8aJ"
      },
      "outputs": [],
      "source": [
        "# Primero, debemos cargar las bibliotecas necesarias\n",
        "import os\n",
        "# Computacion vectorial y cientifica para python\n",
        "import numpy as np\n",
        "import pandas as pd\n",
        "\n",
        "# Librerias para graficación (trazado de gráficos)\n",
        "from matplotlib import pyplot\n",
        "from mpl_toolkits.mplot3d import Axes3D  # Necesario para graficar superficies 3D\n",
        "\n",
        "# llama a matplotlib a embeber graficas dentro de los cuadernillos\n",
        "%matplotlib inline"
      ]
    },
    {
      "cell_type": "markdown",
      "metadata": {
        "id": "uwt_tjd3aD2H"
      },
      "source": [
        "# Normalización de caracteristicas\n",
        "Al visualizar los datos se puede observar que las caracteristicas tienen diferentes magnitudes, por lo cual se debe transformar cada valor en una escala de valores similares, esto con el fin de que el descenso por el gradiente pueda converger mas rapidamente."
      ]
    },
    {
      "cell_type": "code",
      "execution_count": 262,
      "metadata": {
        "colab": {
          "base_uri": "https://localhost:8080/"
        },
        "id": "I7vy2cYKaGPZ",
        "outputId": "1a72d10a-685c-4862-f5eb-126be267d145"
      },
      "outputs": [
        {
          "name": "stdout",
          "output_type": "stream",
          "text": [
            "       3        13\n",
            "       2        16\n",
            "       1         6\n",
            "       4        20\n",
            "       4        16\n",
            "       2         9\n",
            "      13        48\n",
            "       3        16\n",
            "       1         9\n",
            "       2        13\n",
            "       2        12\n",
            "      19        52\n",
            "       3        15\n",
            "       2        10\n",
            "       3        18\n",
            "       6        19\n",
            "       4        12\n",
            "       2        10\n",
            "       1         5\n",
            "       3        12\n"
          ]
        }
      ],
      "source": [
        "# Cargar datos\n",
        "#data = np.loadtxt(os.path.join('Datasets', 'capacidad_adquisitiva.csv'), delimiter=';')\n",
        "#from numpy import genfromtxt\n",
        "#data = genfromtxt(os.path.join('Datasets', 'capacidad_adquisitiva.csv'), delimiter=';')\n",
        "data = pd.read_csv('/content/gdrive/MyDrive/Tareas/Inteligencia artificial SIS420/datasets/2017_Yellow_Taxi_Trip_Data.csv/2017_Yellow_Taxi_Trip_Data.csv')\n",
        " # Suponiendo que deseas trabajar con la primera columna para X y una columna específica para y (por ejemplo, la columna 2)\n",
        "# Convertir las columnas X e y a tipo flotante\n",
        "X = data.iloc[:, 5:6].values.astype(float)  # Convertir a float\n",
        "y = data.iloc[:, 11].values.astype(float)  # Convertir a float\n",
        "m = y.size\n",
        "#print(X)\n",
        "#print(y)\n",
        "# imprimir algunos puntos de datos\n",
        "#print('{:>8s}{:>10s}'.format(X, y))\n",
        "#print('-'*26)\n",
        "for i in range(20):\n",
        "    print('{:8.0f}{:10.0f}'.format(X[i, 0], y[i]))"
      ]
    },
    {
      "cell_type": "code",
      "execution_count": 263,
      "metadata": {
        "id": "-rpiVHE2aIup"
      },
      "outputs": [],
      "source": [
        "def plotData(x, y):\n",
        "    #Grafica los puntos x e y en una figura nueva.\n",
        "\n",
        "    fig = pyplot.figure()  # abre una nueva figura\n",
        "\n",
        "    pyplot.plot(x, y, 'ro', ms=10, mec='k')\n",
        "    pyplot.ylabel('Edad personas')\n",
        "    pyplot.xlabel('Capacidad adquisitiva 1,000s')\n"
      ]
    },
    {
      "cell_type": "code",
      "execution_count": 264,
      "metadata": {
        "colab": {
          "base_uri": "https://localhost:8080/",
          "height": 449
        },
        "id": "ajyREg8cdPBC",
        "outputId": "7632e433-04d5-4fdc-f3d7-02df55592224"
      },
      "outputs": [
        {
          "data": {
            "image/png": "[encoded data removed]",
            "text/plain": [
              "<Figure size 640x480 with 1 Axes>"
            ]
          },
          "metadata": {},
          "output_type": "display_data"
        }
      ],
      "source": [
        "plotData(X, y)"
      ]
    },
    {
      "cell_type": "code",
      "execution_count": 265,
      "metadata": {
        "id": "klxVdDfEaK3a"
      },
      "outputs": [],
      "source": [
        "X = np.concatenate([X, X * X], axis=1)"
      ]
    },
    {
      "cell_type": "code",
      "execution_count": 266,
      "metadata": {
        "colab": {
          "base_uri": "https://localhost:8080/"
        },
        "id": "h_2Hsf40aLco",
        "outputId": "6cd96b3b-5ff2-4b57-aefb-5dd19dfb82df"
      },
      "outputs": [
        {
          "name": "stdout",
          "output_type": "stream",
          "text": [
            "[[ 3.34   11.1556]\n",
            " [ 1.8     3.24  ]\n",
            " [ 1.      1.    ]\n",
            " ...\n",
            " [ 0.42    0.1764]\n",
            " [ 2.36    5.5696]\n",
            " [ 2.1     4.41  ]]\n"
          ]
        }
      ],
      "source": [
        "print(X)"
      ]
    },
    {
      "cell_type": "markdown",
      "metadata": {
        "id": "g9SO1sS0fj1o"
      },
      "source": [
        "#Normalización de características\n",
        "es necesario normalizar X para que el algoritmo de descenso de gradiente funcione eficientemente."
      ]
    },
    {
      "cell_type": "code",
      "execution_count": 267,
      "metadata": {
        "id": "hfEYd4HiaMeg"
      },
      "outputs": [],
      "source": [
        "def  featureNormalize(X):\n",
        "    X_norm = X.copy()\n",
        "    mu = np.zeros(X.shape[1]) #calcular la media\n",
        "    sigma = np.zeros(X.shape[1]) #calcular la desviacion estandar\n",
        "\n",
        "    mu = np.mean(X, axis = 0)\n",
        "    sigma = np.std(X, axis = 0)\n",
        "    X_norm = (X - mu) / sigma\n",
        "\n",
        "    return X_norm, mu, sigma"
      ]
    },
    {
      "cell_type": "code",
      "execution_count": 268,
      "metadata": {
        "colab": {
          "base_uri": "https://localhost:8080/"
        },
        "id": "7uey5UFVggwU",
        "outputId": "be58666b-c3bb-4475-bec8-16ecc80f5813"
      },
      "outputs": [
        {
          "name": "stdout",
          "output_type": "stream",
          "text": [
            "[[ 1.00000000e+00  1.16801665e-01 -2.01075013e-03 -7.19681272e-01\n",
            "   6.47468833e-02  3.30011561e-01 -2.23374601e-01  1.36426290e-02\n",
            "   4.04311609e-06  5.17941134e-01  4.19215889e-03  1.08907630e-01\n",
            "   4.98962122e-02]\n",
            " [ 1.00000000e+00 -3.04759178e-01  2.24515491e-01 -7.19681272e-01\n",
            "   6.47468833e-02  7.72779426e-01 -2.23374601e-01  9.28781564e-02\n",
            "   5.04072057e-02  5.17941134e-01  4.19215889e-03  5.97188040e-01\n",
            "   4.98962122e-02]\n",
            " [ 1.00000000e+00 -5.23751823e-01 -4.92817606e-01 -7.19681272e-01\n",
            "   6.47468833e-02 -1.37751264e-01 -2.23374601e-01  2.74315972e-01\n",
            "   2.42869193e-01  5.17941134e-01  4.19215889e-03  1.89754108e-02\n",
            "   4.98962122e-02]\n",
            " [ 1.00000000e+00  2.15348356e-01  5.64304853e-01 -7.19681272e-01\n",
            "   6.47468833e-02  1.62617878e+00 -2.23374601e-01  4.63749144e-02\n",
            "   3.18439967e-01  5.17941134e-01  4.19215889e-03  2.64445742e+00\n",
            "   4.98962122e-02]\n",
            " [ 1.00000000e+00  3.98754697e-01  2.62269865e-01  3.60030902e-01\n",
            "   6.47468833e-02 -6.55504010e-01 -2.23374601e-01  1.59005308e-01\n",
            "   6.87854819e-02  1.29622251e-01  4.19215889e-03  4.29685507e-01\n",
            "   4.98962122e-02]]\n"
          ]
        }
      ],
      "source": [
        "# Expansión polinómica de segundo grado\n",
        "X_poly = np.concatenate([X_norm, X_norm ** 2], axis=1)\n",
        "\n",
        "# Añadir una columna de unos para el término de intersección (bias term)\n",
        "X_poly = np.concatenate([np.ones((X_poly.shape[0], 1)), X_poly], axis=1)\n",
        "\n",
        "print(X_poly[:5])  # Mostrar las primeras filas de X expandido\n"
      ]
    },
    {
      "cell_type": "code",
      "execution_count": 269,
      "metadata": {
        "id": "XPZ4KYlpaNHM"
      },
      "outputs": [],
      "source": [
        "# llama featureNormalize con los datos cargados\n",
        "X_norm, mu, sigma = featureNormalize(X)\n",
        "\n",
        "#print(X)\n",
        "#print('Media calculada:', mu)\n",
        "#print('Desviación estandar calculada:', sigma)\n",
        "#print(X_norm)"
      ]
    },
    {
      "cell_type": "code",
      "execution_count": 270,
      "metadata": {
        "colab": {
          "base_uri": "https://localhost:8080/"
        },
        "id": "IkKo6Mo6aRWp",
        "outputId": "15674330-4e17-48c4-a149-dc20d29b846c"
      },
      "outputs": [
        {
          "name": "stdout",
          "output_type": "stream",
          "text": [
            "[[ 0.11680167 -0.16161988]\n",
            " [-0.30475918 -0.28144143]\n",
            " [-0.52375182 -0.31534919]\n",
            " ...\n",
            " [-0.68252149 -0.32781635]\n",
            " [-0.15146433 -0.24617736]\n",
            " [-0.22263694 -0.26373068]]\n"
          ]
        }
      ],
      "source": [
        "print(X_norm)"
      ]
    },
    {
      "cell_type": "code",
      "execution_count": 271,
      "metadata": {
        "colab": {
          "base_uri": "https://localhost:8080/",
          "height": 449
        },
        "id": "3bsrSE5zdYj-",
        "outputId": "a3618aff-55d2-46bf-db37-e43849b61e78"
      },
      "outputs": [
        {
          "data": {
            "image/png": "[encoded data removed]",
            "text/plain": [
              "<Figure size 640x480 with 1 Axes>"
            ]
          },
          "metadata": {},
          "output_type": "display_data"
        }
      ],
      "source": [
        "plotData(X_norm[:,0], y)"
      ]
    },
    {
      "cell_type": "code",
      "execution_count": 272,
      "metadata": {
        "id": "unRcgrgKdYfi"
      },
      "outputs": [],
      "source": [
        "# Añade el termino de interseccion a X\n",
        "# (Columna de unos para X0)\n",
        "#X_norm = np.concatenate([X_norm, X_norm * X_norm], axis=1)\n",
        "X = np.concatenate([np.ones((m, 1)), X_norm], axis=1)"
      ]
    },
    {
      "cell_type": "code",
      "execution_count": 273,
      "metadata": {
        "colab": {
          "base_uri": "https://localhost:8080/"
        },
        "id": "SX2HP5sbdYXI",
        "outputId": "4db4000f-2275-451c-992a-c3dedbbbb685"
      },
      "outputs": [
        {
          "name": "stdout",
          "output_type": "stream",
          "text": [
            "[[ 1.          0.11680167 -0.16161988]\n",
            " [ 1.         -0.30475918 -0.28144143]\n",
            " [ 1.         -0.52375182 -0.31534919]\n",
            " ...\n",
            " [ 1.         -0.68252149 -0.32781635]\n",
            " [ 1.         -0.15146433 -0.24617736]\n",
            " [ 1.         -0.22263694 -0.26373068]]\n"
          ]
        }
      ],
      "source": [
        "print(X)"
      ]
    },
    {
      "cell_type": "markdown",
      "metadata": {
        "id": "HvWHeqiIg9wj"
      },
      "source": [
        "# Implementación del descenso por gradiente\n",
        "Ahora implementamos el algoritmo de descenso por gradiente para encontrar los parámetros óptimos theta."
      ]
    },
    {
      "cell_type": "code",
      "execution_count": 274,
      "metadata": {
        "id": "8vp2jo2LdYJY"
      },
      "outputs": [],
      "source": [
        "def computeCostMulti(X, y, theta):\n",
        "    # Inicializa algunos valores utiles\n",
        "    m = y.shape[0] # numero de ejemplos de entrenamiento\n",
        "\n",
        "    J = 0\n",
        "\n",
        "    h = np.dot(X, theta)\n",
        "\n",
        "    J = (1/(2 * m)) * np.sum(np.square(np.dot(X, theta) - y))\n",
        "\n",
        "    return J\n"
      ]
    },
    {
      "cell_type": "code",
      "execution_count": 275,
      "metadata": {
        "id": "DPPyQSpRdgTp"
      },
      "outputs": [],
      "source": [
        "def gradientDescentMulti(X, y, theta, alpha, num_iters):\n",
        "\n",
        "    # Inicializa algunos valores\n",
        "    m = y.shape[0] # numero de ejemplos de entrenamiento\n",
        "\n",
        "    # realiza una copia de theta, el cual será acutalizada por el descenso por el gradiente\n",
        "    theta = theta.copy()\n",
        "\n",
        "    J_history = []\n",
        "\n",
        "    for i in range(num_iters):\n",
        "        theta = theta - (alpha / m) * (np.dot(X, theta) - y).dot(X)\n",
        "        J_history.append(computeCostMulti(X, y, theta))\n",
        "\n",
        "    return theta, J_history"
      ]
    },
    {
      "cell_type": "code",
      "execution_count": 276,
      "metadata": {
        "colab": {
          "base_uri": "https://localhost:8080/",
          "height": 466
        },
        "id": "CVL_g4PCdgRg",
        "outputId": "c87d42e8-bc33-4482-a3b4-d7556ba53dc3"
      },
      "outputs": [
        {
          "data": {
            "image/png": "[encoded data removed]",
            "text/plain": [
              "<Figure size 640x480 with 1 Axes>"
            ]
          },
          "metadata": {},
          "output_type": "display_data"
        },
        {
          "name": "stdout",
          "output_type": "stream",
          "text": [
            "theta calculado por el descenso por el gradiente: [13.02662937 11.53337639 -1.63260101]\n"
          ]
        }
      ],
      "source": [
        "# Parámetros para el descenso por gradiente\n",
        "# Elegir algun valor para alpha (probar varias alternativas)\n",
        "alpha = 0.001 # Tasa de aprendizaje\n",
        "num_iters = 100000 # Número de iteraciones\n",
        "\n",
        "# inicializa theta y ejecuta el descenso por el gradiente\n",
        "theta = np.zeros(3)\n",
        "theta, J_history = gradientDescentMulti(X, y, theta, alpha, num_iters)\n",
        "\n",
        "# Grafica la convergencia del costo\n",
        "pyplot.plot(np.arange(len(J_history)), J_history, lw=2)\n",
        "pyplot.xlabel('Numero de iteraciones')\n",
        "pyplot.ylabel('Costo J')\n",
        "plt.show()\n",
        "\n",
        "# Muestra los resultados del descenso por el gradiente\n",
        "print('theta calculado por el descenso por el gradiente: {:s}'.format(str(theta)))\n",
        "\n",
        "# La capacidad adquisitiva de una persona de 33 años\n",
        "# X_array = [1, 34, 1156]\n",
        "# X_array[1:3] = (X_array[1:3] - mu) / sigma\n",
        "# price = np.dot(X_array, theta)   # Se debe cambiar esto\n",
        "\n",
        "# print('La capacidad adquisitiva para una persona de 33 (usando el descenso por el gradiente): ${:.0f}'.format(price))"
      ]
    },
    {
      "cell_type": "markdown",
      "metadata": {
        "id": "N8OM-nU8ioMb"
      },
      "source": [
        "# Hacer predicciones con el modelo\n",
        "Finalmente, podemos usar los parámetros theta obtenidos para predecir el valor de y para un nuevo valor de X. Por ejemplo, predeciremos el total_amount para un trip_distance de 5.0 millas."
      ]
    },
    {
      "cell_type": "code",
      "execution_count": 277,
      "metadata": {
        "id": "fsoE3AhWmD2P"
      },
      "outputs": [],
      "source": [
        "# Cargar datos\n",
        "data = pd.read_csv('/content/gdrive/MyDrive/Tareas/Inteligencia artificial SIS420/datasets/2017_Yellow_Taxi_Trip_Data.csv/2017_Yellow_Taxi_Trip_Data.csv')\n",
        " # Suponiendo que deseas trabajar con la primera columna para X y una columna específica para y (por ejemplo, la columna 2)\n",
        "# Convertir las columnas X e y a tipo flotante\n",
        "X = data.iloc[:, 5:6].values.astype(float)  # Convertir a float\n",
        "y = data.iloc[:, 11].values.astype(float)  # Convertir a float\n",
        "m = y.size\n",
        "X_original = X.copy()\n",
        "X = np.concatenate([X, X * X], axis=1)\n",
        "X = np.concatenate([np.ones((m, 1)), X], axis=1)"
      ]
    },
    {
      "cell_type": "markdown",
      "metadata": {},
      "source": [
        "# Paso 4: Ecuación de la Normal\n",
        "La ecuación de la normal encuentra los parámetros theta directamente utilizando álgebra lineal, sin necesidad de iteraciones, lo que puede ser más rápido para pequeños conjuntos de datos."
      ]
    },
    {
      "cell_type": "code",
      "execution_count": 278,
      "metadata": {
        "id": "SrMYBKkoryxT"
      },
      "outputs": [],
      "source": [
        "def normalEqn(X, y):\n",
        "\n",
        "    theta = np.zeros(X.shape[1])\n",
        "\n",
        "    theta = np.dot(np.dot(np.linalg.inv(np.dot(X.T,X)),X.T),y)\n",
        "\n",
        "    return theta"
      ]
    },
    {
      "cell_type": "markdown",
      "metadata": {
        "id": "RJ4R-NqBty3E"
      },
      "source": [
        "#Usando la media y desviación estándar previamente calculadas.\n",
        "Luego, se utiliza un valor específico de trip_distance (5.0 millas) para predecir el total_amount aplicando los parámetros theta obtenidos. Esto permite estimar el costo total de un viaje en taxi de 5 millas usando el modelo entrenado."
      ]
    },
    {
      "cell_type": "code",
      "execution_count": 279,
      "metadata": {
        "colab": {
          "base_uri": "https://localhost:8080/"
        },
        "id": "qOSl55Par0ex",
        "outputId": "1551849d-8fe4-4e3f-c42f-18ee52b3cbd3"
      },
      "outputs": [
        {
          "name": "stdout",
          "output_type": "stream",
          "text": [
            "Theta calculado a partir de la ecuación de la normal: [ 4.3662875   3.15839369 -0.02478178]\n",
            "Total amount para una trip distance de 5.0 millas (usando la ecuación de la normal): $6.16\n"
          ]
        }
      ],
      "source": [
        "# Calcula los parametros con la ecuación de la normal\n",
        "theta = normalEqn(X, y);\n",
        "\n",
        "# Muestra los resultados obtenidos a partir de la aplicación de la ecuación de la normal\n",
        "print('Theta calculado a partir de la ecuación de la normal: {:s}'.format(str(theta)))\n",
        "\n",
        "# Estimar el total_amount para una trip_distance específica\n",
        "# Supongamos que queremos estimar el total_amount para una trip_distance de 5 millas\n",
        "\n",
        "# Normalizamos el valor de trip_distance de acuerdo a la media y desviación estándar calculadas\n",
        "trip_distance = 5.0\n",
        "X_array = [1, (trip_distance - mu[0]) / sigma[0], ((trip_distance - mu[0]) / sigma[0])**2]\n",
        "\n",
        "# Calcular el total_amount usando los parámetros theta obtenidos\n",
        "predicted_total_amount = np.dot(X_array, theta)\n",
        "\n",
        "print('Total amount para una trip distance de 5.0 millas (usando la ecuación de la normal): ${:.2f}'.format(predicted_total_amount))"
      ]
    },
    {
      "cell_type": "code",
      "execution_count": 280,
      "metadata": {
        "colab": {
          "base_uri": "https://localhost:8080/",
          "height": 466
        },
        "id": "N93Ajgqer3gx",
        "outputId": "ca1eaeb4-6a69-47af-c9a2-e1c9d14d30e6"
      },
      "outputs": [
        {
          "data": {
            "text/plain": [
              "[<matplotlib.lines.Line2D at 0x7f8feceaf370>]"
            ]
          },
          "execution_count": 280,
          "metadata": {},
          "output_type": "execute_result"
        },
        {
          "data": {
            "image/png": "[encoded data removed]",
            "text/plain": [
              "<Figure size 640x480 with 1 Axes>"
            ]
          },
          "metadata": {},
          "output_type": "display_data"
        }
      ],
      "source": [
        "plotData(X[:, 1], y)\n",
        "#X = np.concatenate([np.ones((m, 1)), X], axis=1)\n",
        "#X = np.concatenate([X, X * X], axis=1)\n",
        "\n",
        "pyplot.plot(X[:, 1], np.dot(X, theta), '-')"
      ]
    },
    {
      "cell_type": "code",
      "execution_count": 283,
      "metadata": {
        "colab": {
          "base_uri": "https://localhost:8080/"
        },
        "id": "zRokTUcEuNnz",
        "outputId": "95069b60-570e-42cc-8ab1-6d057fcc313e"
      },
      "outputs": [
        {
          "name": "stdout",
          "output_type": "stream",
          "text": [
            "Predicción para trip_distance de 0.50 millas: $2.27\n",
            "Predicción para trip_distance de 1.00 millas: $2.71\n",
            "Predicción para trip_distance de 1.50 millas: $3.14\n",
            "Predicción para trip_distance de 2.00 millas: $3.58\n",
            "Predicción para trip_distance de 2.50 millas: $4.01\n",
            "Predicción para trip_distance de 3.00 millas: $4.44\n",
            "Predicción para trip_distance de 3.50 millas: $4.87\n",
            "Predicción para trip_distance de 4.00 millas: $5.30\n",
            "Predicción para trip_distance de 4.50 millas: $5.73\n",
            "Predicción para trip_distance de 5.00 millas: $6.16\n",
            "Predicción para trip_distance de 5.50 millas: $6.59\n",
            "Predicción para trip_distance de 6.00 millas: $7.02\n",
            "Predicción para trip_distance de 6.50 millas: $7.44\n",
            "Predicción para trip_distance de 7.00 millas: $7.87\n",
            "Predicción para trip_distance de 7.50 millas: $8.29\n",
            "Predicción para trip_distance de 8.00 millas: $8.72\n",
            "Predicción para trip_distance de 8.50 millas: $9.14\n",
            "Predicción para trip_distance de 9.00 millas: $9.56\n",
            "Predicción para trip_distance de 9.50 millas: $9.98\n",
            "Predicción para trip_distance de 10.00 millas: $10.40\n",
            "Predicción para trip_distance de 10.50 millas: $10.82\n",
            "Predicción para trip_distance de 11.00 millas: $11.24\n",
            "Predicción para trip_distance de 11.50 millas: $11.65\n",
            "Predicción para trip_distance de 12.00 millas: $12.07\n",
            "Predicción para trip_distance de 12.50 millas: $12.48\n",
            "Predicción para trip_distance de 13.00 millas: $12.90\n",
            "Predicción para trip_distance de 13.50 millas: $13.31\n",
            "Predicción para trip_distance de 14.00 millas: $13.72\n",
            "Predicción para trip_distance de 14.50 millas: $14.13\n",
            "Predicción para trip_distance de 15.00 millas: $14.54\n",
            "Predicción para trip_distance de 15.50 millas: $14.95\n",
            "Predicción para trip_distance de 16.00 millas: $15.36\n",
            "Predicción para trip_distance de 16.50 millas: $15.77\n",
            "Predicción para trip_distance de 17.00 millas: $16.18\n",
            "Predicción para trip_distance de 17.50 millas: $16.58\n",
            "Predicción para trip_distance de 18.00 millas: $16.99\n",
            "Predicción para trip_distance de 18.50 millas: $17.39\n",
            "Predicción para trip_distance de 19.00 millas: $17.79\n",
            "Predicción para trip_distance de 19.50 millas: $18.20\n",
            "Predicción para trip_distance de 20.00 millas: $18.60\n",
            "Predicción para trip_distance de 20.50 millas: $19.00\n",
            "Predicción para trip_distance de 21.00 millas: $19.40\n",
            "Predicción para trip_distance de 21.50 millas: $19.79\n",
            "Predicción para trip_distance de 22.00 millas: $20.19\n",
            "Predicción para trip_distance de 22.50 millas: $20.59\n",
            "Predicción para trip_distance de 23.00 millas: $20.98\n",
            "Predicción para trip_distance de 23.50 millas: $21.38\n",
            "Predicción para trip_distance de 24.00 millas: $21.77\n",
            "Predicción para trip_distance de 24.50 millas: $22.16\n",
            "Predicción para trip_distance de 25.00 millas: $22.56\n",
            "Predicción para trip_distance de 25.50 millas: $22.95\n",
            "Predicción para trip_distance de 26.00 millas: $23.34\n",
            "Predicción para trip_distance de 26.50 millas: $23.73\n",
            "Predicción para trip_distance de 27.00 millas: $24.11\n",
            "Predicción para trip_distance de 27.50 millas: $24.50\n",
            "Predicción para trip_distance de 28.00 millas: $24.89\n",
            "Predicción para trip_distance de 28.50 millas: $25.27\n",
            "Predicción para trip_distance de 29.00 millas: $25.66\n",
            "Predicción para trip_distance de 29.50 millas: $26.04\n",
            "Predicción para trip_distance de 30.00 millas: $26.42\n",
            "Predicción para trip_distance de 30.50 millas: $26.80\n",
            "Predicción para trip_distance de 31.00 millas: $27.18\n",
            "Predicción para trip_distance de 31.50 millas: $27.56\n",
            "Predicción para trip_distance de 32.00 millas: $27.94\n",
            "Predicción para trip_distance de 32.50 millas: $28.32\n",
            "Predicción para trip_distance de 33.00 millas: $28.70\n",
            "Predicción para trip_distance de 33.50 millas: $29.07\n",
            "Predicción para trip_distance de 34.00 millas: $29.45\n",
            "Predicción para trip_distance de 34.50 millas: $29.82\n",
            "Predicción para trip_distance de 35.00 millas: $30.20\n",
            "Predicción para trip_distance de 35.50 millas: $30.57\n",
            "Predicción para trip_distance de 36.00 millas: $30.94\n",
            "Predicción para trip_distance de 36.50 millas: $31.31\n",
            "Predicción para trip_distance de 37.00 millas: $31.68\n",
            "Predicción para trip_distance de 37.50 millas: $32.05\n",
            "Predicción para trip_distance de 38.00 millas: $32.42\n",
            "Predicción para trip_distance de 38.50 millas: $32.78\n",
            "Predicción para trip_distance de 39.00 millas: $33.15\n",
            "Predicción para trip_distance de 39.50 millas: $33.51\n",
            "Predicción para trip_distance de 40.00 millas: $33.88\n",
            "Predicción para trip_distance de 40.50 millas: $34.24\n",
            "Predicción para trip_distance de 41.00 millas: $34.60\n",
            "Predicción para trip_distance de 41.50 millas: $34.96\n",
            "Predicción para trip_distance de 42.00 millas: $35.32\n",
            "Predicción para trip_distance de 42.50 millas: $35.68\n",
            "Predicción para trip_distance de 43.00 millas: $36.04\n",
            "Predicción para trip_distance de 43.50 millas: $36.40\n",
            "Predicción para trip_distance de 44.00 millas: $36.75\n",
            "Predicción para trip_distance de 44.50 millas: $37.11\n",
            "Predicción para trip_distance de 45.00 millas: $37.46\n",
            "Predicción para trip_distance de 45.50 millas: $37.82\n",
            "Predicción para trip_distance de 46.00 millas: $38.17\n",
            "Predicción para trip_distance de 46.50 millas: $38.52\n",
            "Predicción para trip_distance de 47.00 millas: $38.87\n",
            "Predicción para trip_distance de 47.50 millas: $39.22\n",
            "Predicción para trip_distance de 48.00 millas: $39.57\n",
            "Predicción para trip_distance de 48.50 millas: $39.92\n",
            "Predicción para trip_distance de 49.00 millas: $40.27\n",
            "Predicción para trip_distance de 49.50 millas: $40.61\n",
            "Predicción para trip_distance de 50.00 millas: $40.96\n"
          ]
        }
      ],
      "source": [
        "# Supongamos que has normalizado correctamente las características y `theta` tiene 3 elementos\n",
        "# y se requiere una expansión polinómica de segundo grado\n",
        "\n",
        "# Genera 100 valores de distancia de viaje entre 0.5 y 50 millas\n",
        "trip_distances = np.linspace(0.5, 50, 100)\n",
        "\n",
        "# Normaliza las distancias utilizando los valores de mu y sigma\n",
        "trip_distances_norm = (trip_distances - mu[0]) / sigma[0]\n",
        "\n",
        "# Expansión polinómica de segundo grado y añadir el término de intersección\n",
        "trip_distances_poly = np.column_stack([np.ones(trip_distances_norm.shape[0]), trip_distances_norm, trip_distances_norm**2])\n",
        "\n",
        "# Hacer las predicciones utilizando theta\n",
        "predictions = np.dot(trip_distances_poly, theta)\n",
        "\n",
        "# Imprimir las primeras 10 predicciones como ejemplo\n",
        "for i in range(100):\n",
        "    print(f'Predicción para trip_distance de {trip_distances[i]:.2f} millas: ${predictions[i]:.2f}')\n",
        "\n",
        "# Si deseas guardar las predicciones en un archivo para análisis posterior\n",
        "# predicciones_df = pd.DataFrame({'trip_distance': trip_distances, 'total_amount_pred': predictions})\n",
        "# predicciones_df.to_csv('predicciones.csv', index=False)\n"
      ]
    }
  ],
  "metadata": {
    "colab": {
      "provenance": []
    },
    "kernelspec": {
      "display_name": "Python 3",
      "language": "python",
      "name": "python3"
    },
    "language_info": {
      "codemirror_mode": {
        "name": "ipython",
        "version": 3
      },
      "file_extension": ".py",
      "mimetype": "text/x-python",
      "name": "python",
      "nbconvert_exporter": "python",
      "pygments_lexer": "ipython3",
      "version": "3.8.5"
    }
  },
  "nbformat": 4,
  "nbformat_minor": 0
}
